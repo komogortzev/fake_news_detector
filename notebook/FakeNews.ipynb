{
  "cells": [
    {
      "cell_type": "markdown",
      "metadata": {
        "id": "UGxF1WbxrVf3"
      },
      "source": [
        "# 1. Загрузка данных и первоначальный анализ распределения классов"
      ]
    },
    {
      "cell_type": "markdown",
      "metadata": {
        "id": "drDUjnJPl0aq"
      },
      "source": [
        "Загружаем набор данных и визуализируем распределение классов (FAKE и REAL) для оценки баланса."
      ]
    },
    {
      "cell_type": "code",
      "execution_count": 13,
      "metadata": {
        "id": "glQ9sQ5IrPkd"
      },
      "outputs": [],
      "source": [
        "import pandas as pd\n",
        "from sklearn.feature_extraction.text import TfidfVectorizer\n",
        "from sklearn.model_selection import StratifiedKFold, cross_val_score, cross_val_predict, train_test_split\n",
        "from sklearn.linear_model import PassiveAggressiveClassifier\n",
        "from sklearn.metrics import accuracy_score, confusion_matrix, classification_report\n",
        "from sklearn.pipeline import Pipeline\n",
        "\n",
        "\n",
        "import plotly.graph_objects as go\n",
        "from plotly.subplots import make_subplots\n",
        "\n",
        "import re\n",
        "import joblib\n",
        "\n",
        "COLORS = {\n",
        "    'FAKE': '#FF6B6B',\n",
        "    'REAL': '#4ECDC4',\n",
        "    'primary': '#667eea',\n",
        "    'secondary': '#764ba2',\n",
        "}\n",
        "\n",
        "FILE_PATH = 'https://storage.yandexcloud.net/academy.ai/practica/fake_news.csv'\n",
        "\n",
        "def clean_text(text):\n",
        "    text = str(text).lower()\n",
        "    text = re.sub(r'<[^>]+>', '', text) # HTML\n",
        "    text = re.sub(r'&[a-z]+;', '', text)\n",
        "    text = re.sub(r'https?://\\S+|www\\.\\S+', '', text) # URL\n",
        "    text = re.sub(r'\\[.*?\\]', '', text) # текст в квадратных скобках\n",
        "    text = re.sub(r'\\(.*?\\)', '', text) # текст в круглых скобках\n",
        "    # эмодзи\n",
        "    emoji_pattern = re.compile(\n",
        "        \"[\"\n",
        "        \"\\U0001F600-\\U0001F64F\"\n",
        "        \"\\U0001F300-\\U0001F5FF\"\n",
        "        \"\\U0001F680-\\U0001F6FF\"\n",
        "        \"\\U0001F1E0-\\U0001F1FF\"\n",
        "        \"\\U00002702-\\U000027B0\"\n",
        "        \"\\U000024C2-\\U0001F251\"\n",
        "        \"]+\", flags=re.UNICODE\n",
        "    )\n",
        "    text = emoji_pattern.sub(r'', text)\n",
        "\n",
        "    punctuations_and_specials = r\"\"\"!\"#$%&'()*+,-./:;<=>?@[\\]^_`{|}~“”‘’«»„”…–—\"\"\" # знаки препинания и специальные символы\n",
        "    text = re.sub(r'[%s]' % re.escape(punctuations_and_specials), '', text)\n",
        "    text = re.sub(r'\\w*\\d\\w*', '', text)  # слова, содержащие цифры\n",
        "    text = re.sub(r'\\d+', '', text)  # цифры\n",
        "    text = re.sub(r'\\s+', ' ', text).strip()  # лишние пробелы\n",
        "    return text\n",
        "\n",
        "data = pd.read_csv(FILE_PATH)"
      ]
    },
    {
      "cell_type": "code",
      "execution_count": 14,
      "metadata": {
        "colab": {
          "base_uri": "https://localhost:8080/",
          "height": 417
        },
        "id": "y3Z3l_gVsMSo",
        "outputId": "ab115478-0bf7-4f14-df91-bb27b8dc8189"
      },
      "outputs": [
        {
          "output_type": "display_data",
          "data": {
            "text/html": [
              "<html>\n",
              "<head><meta charset=\"utf-8\" /></head>\n",
              "<body>\n",
              "    <div>            <script src=\"https://cdnjs.cloudflare.com/ajax/libs/mathjax/2.7.5/MathJax.js?config=TeX-AMS-MML_SVG\"></script><script type=\"text/javascript\">if (window.MathJax && window.MathJax.Hub && window.MathJax.Hub.Config) {window.MathJax.Hub.Config({SVG: {font: \"STIX-Web\"}});}</script>                <script type=\"text/javascript\">window.PlotlyConfig = {MathJaxConfig: 'local'};</script>\n",
              "        <script charset=\"utf-8\" src=\"https://cdn.plot.ly/plotly-2.35.2.min.js\"></script>                <div id=\"d5b7909e-589f-47c0-b6d8-d15088258757\" class=\"plotly-graph-div\" style=\"height:400px; width:800px;\"></div>            <script type=\"text/javascript\">                                    window.PLOTLYENV=window.PLOTLYENV || {};                                    if (document.getElementById(\"d5b7909e-589f-47c0-b6d8-d15088258757\")) {                    Plotly.newPlot(                        \"d5b7909e-589f-47c0-b6d8-d15088258757\",                        [{\"hole\":0.3,\"labels\":[\"REAL\",\"FAKE\"],\"marker\":{\"colors\":[\"#4ECDC4\",\"#FF6B6B\"]},\"textinfo\":\"label+percent\",\"values\":[3171,3164],\"type\":\"pie\",\"domain\":{\"x\":[0.0,0.45],\"y\":[0.0,1.0]}},{\"marker\":{\"color\":[\"#4ECDC4\",\"#FF6B6B\"]},\"text\":[3171.0,3164.0],\"x\":[\"REAL\",\"FAKE\"],\"y\":[3171,3164],\"type\":\"bar\",\"xaxis\":\"x\",\"yaxis\":\"y\"}],                        {\"template\":{\"data\":{\"histogram2dcontour\":[{\"type\":\"histogram2dcontour\",\"colorbar\":{\"outlinewidth\":0,\"ticks\":\"\"},\"colorscale\":[[0.0,\"#0d0887\"],[0.1111111111111111,\"#46039f\"],[0.2222222222222222,\"#7201a8\"],[0.3333333333333333,\"#9c179e\"],[0.4444444444444444,\"#bd3786\"],[0.5555555555555556,\"#d8576b\"],[0.6666666666666666,\"#ed7953\"],[0.7777777777777778,\"#fb9f3a\"],[0.8888888888888888,\"#fdca26\"],[1.0,\"#f0f921\"]]}],\"choropleth\":[{\"type\":\"choropleth\",\"colorbar\":{\"outlinewidth\":0,\"ticks\":\"\"}}],\"histogram2d\":[{\"type\":\"histogram2d\",\"colorbar\":{\"outlinewidth\":0,\"ticks\":\"\"},\"colorscale\":[[0.0,\"#0d0887\"],[0.1111111111111111,\"#46039f\"],[0.2222222222222222,\"#7201a8\"],[0.3333333333333333,\"#9c179e\"],[0.4444444444444444,\"#bd3786\"],[0.5555555555555556,\"#d8576b\"],[0.6666666666666666,\"#ed7953\"],[0.7777777777777778,\"#fb9f3a\"],[0.8888888888888888,\"#fdca26\"],[1.0,\"#f0f921\"]]}],\"heatmap\":[{\"type\":\"heatmap\",\"colorbar\":{\"outlinewidth\":0,\"ticks\":\"\"},\"colorscale\":[[0.0,\"#0d0887\"],[0.1111111111111111,\"#46039f\"],[0.2222222222222222,\"#7201a8\"],[0.3333333333333333,\"#9c179e\"],[0.4444444444444444,\"#bd3786\"],[0.5555555555555556,\"#d8576b\"],[0.6666666666666666,\"#ed7953\"],[0.7777777777777778,\"#fb9f3a\"],[0.8888888888888888,\"#fdca26\"],[1.0,\"#f0f921\"]]}],\"heatmapgl\":[{\"type\":\"heatmapgl\",\"colorbar\":{\"outlinewidth\":0,\"ticks\":\"\"},\"colorscale\":[[0.0,\"#0d0887\"],[0.1111111111111111,\"#46039f\"],[0.2222222222222222,\"#7201a8\"],[0.3333333333333333,\"#9c179e\"],[0.4444444444444444,\"#bd3786\"],[0.5555555555555556,\"#d8576b\"],[0.6666666666666666,\"#ed7953\"],[0.7777777777777778,\"#fb9f3a\"],[0.8888888888888888,\"#fdca26\"],[1.0,\"#f0f921\"]]}],\"contourcarpet\":[{\"type\":\"contourcarpet\",\"colorbar\":{\"outlinewidth\":0,\"ticks\":\"\"}}],\"contour\":[{\"type\":\"contour\",\"colorbar\":{\"outlinewidth\":0,\"ticks\":\"\"},\"colorscale\":[[0.0,\"#0d0887\"],[0.1111111111111111,\"#46039f\"],[0.2222222222222222,\"#7201a8\"],[0.3333333333333333,\"#9c179e\"],[0.4444444444444444,\"#bd3786\"],[0.5555555555555556,\"#d8576b\"],[0.6666666666666666,\"#ed7953\"],[0.7777777777777778,\"#fb9f3a\"],[0.8888888888888888,\"#fdca26\"],[1.0,\"#f0f921\"]]}],\"surface\":[{\"type\":\"surface\",\"colorbar\":{\"outlinewidth\":0,\"ticks\":\"\"},\"colorscale\":[[0.0,\"#0d0887\"],[0.1111111111111111,\"#46039f\"],[0.2222222222222222,\"#7201a8\"],[0.3333333333333333,\"#9c179e\"],[0.4444444444444444,\"#bd3786\"],[0.5555555555555556,\"#d8576b\"],[0.6666666666666666,\"#ed7953\"],[0.7777777777777778,\"#fb9f3a\"],[0.8888888888888888,\"#fdca26\"],[1.0,\"#f0f921\"]]}],\"mesh3d\":[{\"type\":\"mesh3d\",\"colorbar\":{\"outlinewidth\":0,\"ticks\":\"\"}}],\"scatter\":[{\"fillpattern\":{\"fillmode\":\"overlay\",\"size\":10,\"solidity\":0.2},\"type\":\"scatter\"}],\"parcoords\":[{\"type\":\"parcoords\",\"line\":{\"colorbar\":{\"outlinewidth\":0,\"ticks\":\"\"}}}],\"scatterpolargl\":[{\"type\":\"scatterpolargl\",\"marker\":{\"colorbar\":{\"outlinewidth\":0,\"ticks\":\"\"}}}],\"bar\":[{\"error_x\":{\"color\":\"#2a3f5f\"},\"error_y\":{\"color\":\"#2a3f5f\"},\"marker\":{\"line\":{\"color\":\"#E5ECF6\",\"width\":0.5},\"pattern\":{\"fillmode\":\"overlay\",\"size\":10,\"solidity\":0.2}},\"type\":\"bar\"}],\"scattergeo\":[{\"type\":\"scattergeo\",\"marker\":{\"colorbar\":{\"outlinewidth\":0,\"ticks\":\"\"}}}],\"scatterpolar\":[{\"type\":\"scatterpolar\",\"marker\":{\"colorbar\":{\"outlinewidth\":0,\"ticks\":\"\"}}}],\"histogram\":[{\"marker\":{\"pattern\":{\"fillmode\":\"overlay\",\"size\":10,\"solidity\":0.2}},\"type\":\"histogram\"}],\"scattergl\":[{\"type\":\"scattergl\",\"marker\":{\"colorbar\":{\"outlinewidth\":0,\"ticks\":\"\"}}}],\"scatter3d\":[{\"type\":\"scatter3d\",\"line\":{\"colorbar\":{\"outlinewidth\":0,\"ticks\":\"\"}},\"marker\":{\"colorbar\":{\"outlinewidth\":0,\"ticks\":\"\"}}}],\"scattermapbox\":[{\"type\":\"scattermapbox\",\"marker\":{\"colorbar\":{\"outlinewidth\":0,\"ticks\":\"\"}}}],\"scatterternary\":[{\"type\":\"scatterternary\",\"marker\":{\"colorbar\":{\"outlinewidth\":0,\"ticks\":\"\"}}}],\"scattercarpet\":[{\"type\":\"scattercarpet\",\"marker\":{\"colorbar\":{\"outlinewidth\":0,\"ticks\":\"\"}}}],\"carpet\":[{\"aaxis\":{\"endlinecolor\":\"#2a3f5f\",\"gridcolor\":\"white\",\"linecolor\":\"white\",\"minorgridcolor\":\"white\",\"startlinecolor\":\"#2a3f5f\"},\"baxis\":{\"endlinecolor\":\"#2a3f5f\",\"gridcolor\":\"white\",\"linecolor\":\"white\",\"minorgridcolor\":\"white\",\"startlinecolor\":\"#2a3f5f\"},\"type\":\"carpet\"}],\"table\":[{\"cells\":{\"fill\":{\"color\":\"#EBF0F8\"},\"line\":{\"color\":\"white\"}},\"header\":{\"fill\":{\"color\":\"#C8D4E3\"},\"line\":{\"color\":\"white\"}},\"type\":\"table\"}],\"barpolar\":[{\"marker\":{\"line\":{\"color\":\"#E5ECF6\",\"width\":0.5},\"pattern\":{\"fillmode\":\"overlay\",\"size\":10,\"solidity\":0.2}},\"type\":\"barpolar\"}],\"pie\":[{\"automargin\":true,\"type\":\"pie\"}]},\"layout\":{\"autotypenumbers\":\"strict\",\"colorway\":[\"#636efa\",\"#EF553B\",\"#00cc96\",\"#ab63fa\",\"#FFA15A\",\"#19d3f3\",\"#FF6692\",\"#B6E880\",\"#FF97FF\",\"#FECB52\"],\"font\":{\"color\":\"#2a3f5f\"},\"hovermode\":\"closest\",\"hoverlabel\":{\"align\":\"left\"},\"paper_bgcolor\":\"white\",\"plot_bgcolor\":\"#E5ECF6\",\"polar\":{\"bgcolor\":\"#E5ECF6\",\"angularaxis\":{\"gridcolor\":\"white\",\"linecolor\":\"white\",\"ticks\":\"\"},\"radialaxis\":{\"gridcolor\":\"white\",\"linecolor\":\"white\",\"ticks\":\"\"}},\"ternary\":{\"bgcolor\":\"#E5ECF6\",\"aaxis\":{\"gridcolor\":\"white\",\"linecolor\":\"white\",\"ticks\":\"\"},\"baxis\":{\"gridcolor\":\"white\",\"linecolor\":\"white\",\"ticks\":\"\"},\"caxis\":{\"gridcolor\":\"white\",\"linecolor\":\"white\",\"ticks\":\"\"}},\"coloraxis\":{\"colorbar\":{\"outlinewidth\":0,\"ticks\":\"\"}},\"colorscale\":{\"sequential\":[[0.0,\"#0d0887\"],[0.1111111111111111,\"#46039f\"],[0.2222222222222222,\"#7201a8\"],[0.3333333333333333,\"#9c179e\"],[0.4444444444444444,\"#bd3786\"],[0.5555555555555556,\"#d8576b\"],[0.6666666666666666,\"#ed7953\"],[0.7777777777777778,\"#fb9f3a\"],[0.8888888888888888,\"#fdca26\"],[1.0,\"#f0f921\"]],\"sequentialminus\":[[0.0,\"#0d0887\"],[0.1111111111111111,\"#46039f\"],[0.2222222222222222,\"#7201a8\"],[0.3333333333333333,\"#9c179e\"],[0.4444444444444444,\"#bd3786\"],[0.5555555555555556,\"#d8576b\"],[0.6666666666666666,\"#ed7953\"],[0.7777777777777778,\"#fb9f3a\"],[0.8888888888888888,\"#fdca26\"],[1.0,\"#f0f921\"]],\"diverging\":[[0,\"#8e0152\"],[0.1,\"#c51b7d\"],[0.2,\"#de77ae\"],[0.3,\"#f1b6da\"],[0.4,\"#fde0ef\"],[0.5,\"#f7f7f7\"],[0.6,\"#e6f5d0\"],[0.7,\"#b8e186\"],[0.8,\"#7fbc41\"],[0.9,\"#4d9221\"],[1,\"#276419\"]]},\"xaxis\":{\"gridcolor\":\"white\",\"linecolor\":\"white\",\"ticks\":\"\",\"title\":{\"standoff\":15},\"zerolinecolor\":\"white\",\"automargin\":true,\"zerolinewidth\":2},\"yaxis\":{\"gridcolor\":\"white\",\"linecolor\":\"white\",\"ticks\":\"\",\"title\":{\"standoff\":15},\"zerolinecolor\":\"white\",\"automargin\":true,\"zerolinewidth\":2},\"scene\":{\"xaxis\":{\"backgroundcolor\":\"#E5ECF6\",\"gridcolor\":\"white\",\"linecolor\":\"white\",\"showbackground\":true,\"ticks\":\"\",\"zerolinecolor\":\"white\",\"gridwidth\":2},\"yaxis\":{\"backgroundcolor\":\"#E5ECF6\",\"gridcolor\":\"white\",\"linecolor\":\"white\",\"showbackground\":true,\"ticks\":\"\",\"zerolinecolor\":\"white\",\"gridwidth\":2},\"zaxis\":{\"backgroundcolor\":\"#E5ECF6\",\"gridcolor\":\"white\",\"linecolor\":\"white\",\"showbackground\":true,\"ticks\":\"\",\"zerolinecolor\":\"white\",\"gridwidth\":2}},\"shapedefaults\":{\"line\":{\"color\":\"#2a3f5f\"}},\"annotationdefaults\":{\"arrowcolor\":\"#2a3f5f\",\"arrowhead\":0,\"arrowwidth\":1},\"geo\":{\"bgcolor\":\"white\",\"landcolor\":\"#E5ECF6\",\"subunitcolor\":\"white\",\"showland\":true,\"showlakes\":true,\"lakecolor\":\"white\"},\"title\":{\"x\":0.05},\"mapbox\":{\"style\":\"light\"}}},\"xaxis\":{\"anchor\":\"y\",\"domain\":[0.55,1.0]},\"yaxis\":{\"anchor\":\"x\",\"domain\":[0.0,1.0]},\"title\":{\"text\":\"\\u003cb\\u003eРаспределение 'label'\\u003c\\u002fb\\u003e\",\"x\":0.5},\"width\":800,\"height\":400,\"showlegend\":false},                        {\"responsive\": true}                    ).then(function(){\n",
              "                            \n",
              "var gd = document.getElementById('d5b7909e-589f-47c0-b6d8-d15088258757');\n",
              "var x = new MutationObserver(function (mutations, observer) {{\n",
              "        var display = window.getComputedStyle(gd).display;\n",
              "        if (!display || display === 'none') {{\n",
              "            console.log([gd, 'removed!']);\n",
              "            Plotly.purge(gd);\n",
              "            observer.disconnect();\n",
              "        }}\n",
              "}});\n",
              "\n",
              "// Listen for the removal of the full notebook cells\n",
              "var notebookContainer = gd.closest('#notebook-container');\n",
              "if (notebookContainer) {{\n",
              "    x.observe(notebookContainer, {childList: true});\n",
              "}}\n",
              "\n",
              "// Listen for the clearing of the current output cell\n",
              "var outputEl = gd.closest('.output');\n",
              "if (outputEl) {{\n",
              "    x.observe(outputEl, {childList: true});\n",
              "}}\n",
              "\n",
              "                        })                };                            </script>        </div>\n",
              "</body>\n",
              "</html>"
            ]
          },
          "metadata": {}
        }
      ],
      "source": [
        "class_counts = data['label'].value_counts()\n",
        "fig = make_subplots(rows=1, cols=2, specs=[[{'type': 'pie'}, {'type': 'xy'}]])\n",
        "fig.add_trace(go.Pie(values=class_counts.values, labels=class_counts.index,\n",
        "                     marker_colors=[COLORS[l] for l in class_counts.index],\n",
        "                     hole=0.3, textinfo='label+percent'), row=1, col=1)\n",
        "fig.add_trace(go.Bar(x=class_counts.index, y=class_counts.values, text=class_counts.values,\n",
        "                     marker_color=[COLORS[l] for l in class_counts.index]), row=1, col=2)\n",
        "fig.update_layout(width=800, height=400, title_text=\"<b>Распределение 'label'</b>\",\n",
        "                  title_x=0.5, showlegend=False)\n",
        "fig.show()"
      ]
    },
    {
      "cell_type": "markdown",
      "source": [
        " Анализ показывает, что классы FAKE (49.9%) и REAL (50.1%) хорошо сбалансированы"
      ],
      "metadata": {
        "id": "TWcMr95yS9aq"
      }
    },
    {
      "cell_type": "markdown",
      "metadata": {
        "id": "6E878hqisauQ"
      },
      "source": [
        "# 2. Предобработка данных"
      ]
    },
    {
      "cell_type": "markdown",
      "metadata": {
        "id": "eR_F2O61mPKd"
      },
      "source": [
        "- Выполняется очистка текстовых полей (title и text) с использованием регулярных выражений для удаления HTML-тегов, URL, эмодзи, пунктуации, цифр и лишних пробелов. Затем очищенные заголовок и текст объединяются в новый столбец content, который будет использоваться для извлечения признаков. Дубликаты и пропущенные значения удаляются для обеспечения чистоты данных."
      ]
    },
    {
      "cell_type": "code",
      "execution_count": 15,
      "metadata": {
        "colab": {
          "base_uri": "https://localhost:8080/"
        },
        "id": "WficZK3isq44",
        "outputId": "b1bbe676-24ef-49d3-b412-ed30158b2d4a"
      },
      "outputs": [
        {
          "output_type": "stream",
          "name": "stdout",
          "text": [
            "Размер датасета после предобработки: (6306, 4)\n"
          ]
        }
      ],
      "source": [
        "data = data.drop(columns=['Unnamed: 0'], errors='ignore')\n",
        "data = data.drop_duplicates()\n",
        "data = data.dropna()\n",
        "data['title'] = data['title'].fillna('').astype(str)\n",
        "data['text'] = data['text'].fillna('').astype(str)\n",
        "\n",
        "data['title'] = data['title'].apply(clean_text)\n",
        "data['text'] = data['text'].apply(clean_text)\n",
        "\n",
        "data['content'] = data['title'] + ' ' + data['text']\n",
        "\n",
        "X = data['content']\n",
        "y = data['label']\n",
        "\n",
        "print(f\"Размер датасета после предобработки: {data.shape}\")"
      ]
    },
    {
      "cell_type": "code",
      "execution_count": 31,
      "metadata": {
        "id": "gjfTZi22i8Mz"
      },
      "outputs": [],
      "source": [
        "X_train, X_test, y_train, y_test = train_test_split(\n",
        "    X, y, test_size=0.2, stratify=y, random_state=24\n",
        ")"
      ]
    },
    {
      "cell_type": "markdown",
      "metadata": {
        "id": "by9_rahds3kL"
      },
      "source": [
        "# 3. Создание и оценка модели"
      ]
    },
    {
      "cell_type": "markdown",
      "metadata": {
        "id": "TBMaryw6mesT"
      },
      "source": [
        "Инициализируется пайплайн, состоящий из двух ключевых компонентов:\n",
        "- __TfidfVectorizer__: Используется для преобразования текстовых данных в TF-IDF векторы.\n",
        "- __PassiveAggressiveClassifier__: Выступает в качестве классификатора.\n",
        "\n",
        "Модель оценивается с использованием 10-кратной кросс-валидации."
      ]
    },
    {
      "cell_type": "code",
      "execution_count": null,
      "metadata": {
        "id": "t20hVxActkHI",
        "scrolled": true
      },
      "outputs": [],
      "source": [
        "pipeline = Pipeline([\n",
        "    ('vectorizer', TfidfVectorizer(\n",
        "      ngram_range=(1,2),\n",
        "      sublinear_tf=True,\n",
        "      stop_words='english',\n",
        "      min_df=3,\n",
        "    )),\n",
        "    ('classifier', PassiveAggressiveClassifier(\n",
        "        C=2,\n",
        "        loss='squared_hinge',\n",
        "        random_state=42,\n",
        "    ))\n",
        "])\n",
        "\n",
        "n_splits=10\n",
        "kf = StratifiedKFold(n_splits=n_splits, shuffle=True, random_state=42)\n",
        "\n",
        "cv_accuracy_scores = cross_val_score(\n",
        "    pipeline,\n",
        "    X_train, y_train,\n",
        "    cv=kf,\n",
        "    scoring='accuracy',\n",
        "    n_jobs=-1\n",
        ")\n",
        "\n",
        "y_pred_cv = cross_val_predict(pipeline, X_train, y_train, cv=kf, n_jobs=-1)"
      ]
    },
    {
      "cell_type": "code",
      "execution_count": 89,
      "metadata": {
        "colab": {
          "base_uri": "https://localhost:8080/",
          "height": 817
        },
        "id": "T7Pk1mieypKZ",
        "jupyter": {
          "outputs_hidden": true,
          "source_hidden": true
        },
        "outputId": "b8a0b36f-25ff-469b-ba22-e5833aadb222"
      },
      "outputs": [
        {
          "output_type": "display_data",
          "data": {
            "text/html": [
              "<html>\n",
              "<head><meta charset=\"utf-8\" /></head>\n",
              "<body>\n",
              "    <div>            <script src=\"https://cdnjs.cloudflare.com/ajax/libs/mathjax/2.7.5/MathJax.js?config=TeX-AMS-MML_SVG\"></script><script type=\"text/javascript\">if (window.MathJax && window.MathJax.Hub && window.MathJax.Hub.Config) {window.MathJax.Hub.Config({SVG: {font: \"STIX-Web\"}});}</script>                <script type=\"text/javascript\">window.PlotlyConfig = {MathJaxConfig: 'local'};</script>\n",
              "        <script charset=\"utf-8\" src=\"https://cdn.plot.ly/plotly-2.35.2.min.js\"></script>                <div id=\"3798efad-ad24-41ca-b0f6-7455dbc928c4\" class=\"plotly-graph-div\" style=\"height:800px; width:1200px;\"></div>            <script type=\"text/javascript\">                                    window.PLOTLYENV=window.PLOTLYENV || {};                                    if (document.getElementById(\"3798efad-ad24-41ca-b0f6-7455dbc928c4\")) {                    Plotly.newPlot(                        \"3798efad-ad24-41ca-b0f6-7455dbc928c4\",                        [{\"gauge\":{\"axis\":{\"dtick\":5,\"range\":[80,100],\"tickwidth\":1},\"bar\":{\"color\":\"#667eea\",\"thickness\":0.7},\"steps\":[{\"color\":\"#FF6B6B\",\"range\":[80,90]},{\"color\":\"#4ECDC4\",\"range\":[90,100]}],\"threshold\":{\"line\":{\"color\":\"red\",\"width\":4},\"thickness\":0.75,\"value\":90}},\"mode\":\"gauge+number\",\"value\":94.70658207771609,\"type\":\"indicator\",\"domain\":{\"x\":[0.0,0.425],\"y\":[0.56,1.0]}},{\"line\":{\"color\":\"gray\",\"width\":2},\"marker\":{\"color\":[\"#FF6B6B\",\"#FF6B6B\",\"#4ECDC4\",\"#FF6B6B\",\"#FF6B6B\",\"#4ECDC4\",\"#4ECDC4\",\"#4ECDC4\",\"#4ECDC4\",\"#4ECDC4\"],\"size\":8},\"mode\":\"markers+lines\",\"name\":\"Точность фолда\",\"text\":[\"93.1%\",\"94.1%\",\"94.9%\",\"94.3%\",\"94.6%\",\"95.6%\",\"95.2%\",\"95.0%\",\"94.8%\",\"95.4%\"],\"textposition\":\"top center\",\"x\":[1,2,3,4,5,6,7,8,9,10],\"y\":[0.9306930693069307,0.9405940594059405,0.9485148514851485,0.9425742574257425,0.9464285714285714,0.9563492063492064,0.9523809523809523,0.9503968253968254,0.9484126984126984,0.9543650793650794],\"type\":\"scatter\",\"xaxis\":\"x\",\"yaxis\":\"y\"},{\"line\":{\"color\":\"blue\",\"dash\":\"dash\",\"width\":2},\"mode\":\"lines\",\"name\":\"Среднее: 94.7%\",\"showlegend\":false,\"x\":[1,2,3,4,5,6,7,8,9,10],\"y\":[0.9470709570957094,0.9470709570957094,0.9470709570957094,0.9470709570957094,0.9470709570957094,0.9470709570957094,0.9470709570957094,0.9470709570957094,0.9470709570957094,0.9470709570957094],\"type\":\"scatter\",\"xaxis\":\"x\",\"yaxis\":\"y\"},{\"colorscale\":[[0.0,\"rgb(247,251,255)\"],[0.125,\"rgb(222,235,247)\"],[0.25,\"rgb(198,219,239)\"],[0.375,\"rgb(158,202,225)\"],[0.5,\"rgb(107,174,214)\"],[0.625,\"rgb(66,146,198)\"],[0.75,\"rgb(33,113,181)\"],[0.875,\"rgb(8,81,156)\"],[1.0,\"rgb(8,48,107)\"]],\"hovertemplate\":\"Истина: %{y}\\u003cbr\\u003eПредсказание: %{x}\\u003cbr\\u003e%{text}\\u003cextra\\u003e\\u003c\\u002fextra\\u003e\",\"text\":[[\"2396\\u003cbr\\u003e(95.0%)\",\"125\\u003cbr\\u003e(5.0%)\"],[\"142\\u003cbr\\u003e(5.6%)\",\"2381\\u003cbr\\u003e(94.4%)\"]],\"texttemplate\":\"%{text}\",\"x\":[\"FAKE\",\"REAL\"],\"y\":[\"FAKE\",\"REAL\"],\"z\":[[0.950416501388338,0.04958349861166204],[0.056282203725723345,0.9437177962742767]],\"type\":\"heatmap\",\"xaxis\":\"x2\",\"yaxis\":\"y2\"},{\"error_y\":{\"type\":\"constant\",\"value\":0.01,\"visible\":true},\"marker\":{\"color\":\"#FF6B6B\"},\"name\":\"FAKE\",\"text\":[\"0.944\",\"0.950\",\"0.947\"],\"textposition\":\"outside\",\"x\":[\"precision\",\"recall\",\"f1-score\"],\"y\":[0.9440504334121356,0.950416501388338,0.9472227712986756],\"type\":\"bar\",\"xaxis\":\"x3\",\"yaxis\":\"y3\"},{\"error_y\":{\"type\":\"constant\",\"value\":0.01,\"visible\":true},\"marker\":{\"color\":\"#4ECDC4\"},\"name\":\"REAL\",\"text\":[\"0.950\",\"0.944\",\"0.947\"],\"textposition\":\"outside\",\"x\":[\"precision\",\"recall\",\"f1-score\"],\"y\":[0.9501197126895451,0.9437177962742767,0.9469079339828992],\"type\":\"bar\",\"xaxis\":\"x3\",\"yaxis\":\"y3\"}],                        {\"template\":{\"data\":{\"histogram2dcontour\":[{\"type\":\"histogram2dcontour\",\"colorbar\":{\"outlinewidth\":0,\"ticks\":\"\"},\"colorscale\":[[0.0,\"#0d0887\"],[0.1111111111111111,\"#46039f\"],[0.2222222222222222,\"#7201a8\"],[0.3333333333333333,\"#9c179e\"],[0.4444444444444444,\"#bd3786\"],[0.5555555555555556,\"#d8576b\"],[0.6666666666666666,\"#ed7953\"],[0.7777777777777778,\"#fb9f3a\"],[0.8888888888888888,\"#fdca26\"],[1.0,\"#f0f921\"]]}],\"choropleth\":[{\"type\":\"choropleth\",\"colorbar\":{\"outlinewidth\":0,\"ticks\":\"\"}}],\"histogram2d\":[{\"type\":\"histogram2d\",\"colorbar\":{\"outlinewidth\":0,\"ticks\":\"\"},\"colorscale\":[[0.0,\"#0d0887\"],[0.1111111111111111,\"#46039f\"],[0.2222222222222222,\"#7201a8\"],[0.3333333333333333,\"#9c179e\"],[0.4444444444444444,\"#bd3786\"],[0.5555555555555556,\"#d8576b\"],[0.6666666666666666,\"#ed7953\"],[0.7777777777777778,\"#fb9f3a\"],[0.8888888888888888,\"#fdca26\"],[1.0,\"#f0f921\"]]}],\"heatmap\":[{\"type\":\"heatmap\",\"colorbar\":{\"outlinewidth\":0,\"ticks\":\"\"},\"colorscale\":[[0.0,\"#0d0887\"],[0.1111111111111111,\"#46039f\"],[0.2222222222222222,\"#7201a8\"],[0.3333333333333333,\"#9c179e\"],[0.4444444444444444,\"#bd3786\"],[0.5555555555555556,\"#d8576b\"],[0.6666666666666666,\"#ed7953\"],[0.7777777777777778,\"#fb9f3a\"],[0.8888888888888888,\"#fdca26\"],[1.0,\"#f0f921\"]]}],\"heatmapgl\":[{\"type\":\"heatmapgl\",\"colorbar\":{\"outlinewidth\":0,\"ticks\":\"\"},\"colorscale\":[[0.0,\"#0d0887\"],[0.1111111111111111,\"#46039f\"],[0.2222222222222222,\"#7201a8\"],[0.3333333333333333,\"#9c179e\"],[0.4444444444444444,\"#bd3786\"],[0.5555555555555556,\"#d8576b\"],[0.6666666666666666,\"#ed7953\"],[0.7777777777777778,\"#fb9f3a\"],[0.8888888888888888,\"#fdca26\"],[1.0,\"#f0f921\"]]}],\"contourcarpet\":[{\"type\":\"contourcarpet\",\"colorbar\":{\"outlinewidth\":0,\"ticks\":\"\"}}],\"contour\":[{\"type\":\"contour\",\"colorbar\":{\"outlinewidth\":0,\"ticks\":\"\"},\"colorscale\":[[0.0,\"#0d0887\"],[0.1111111111111111,\"#46039f\"],[0.2222222222222222,\"#7201a8\"],[0.3333333333333333,\"#9c179e\"],[0.4444444444444444,\"#bd3786\"],[0.5555555555555556,\"#d8576b\"],[0.6666666666666666,\"#ed7953\"],[0.7777777777777778,\"#fb9f3a\"],[0.8888888888888888,\"#fdca26\"],[1.0,\"#f0f921\"]]}],\"surface\":[{\"type\":\"surface\",\"colorbar\":{\"outlinewidth\":0,\"ticks\":\"\"},\"colorscale\":[[0.0,\"#0d0887\"],[0.1111111111111111,\"#46039f\"],[0.2222222222222222,\"#7201a8\"],[0.3333333333333333,\"#9c179e\"],[0.4444444444444444,\"#bd3786\"],[0.5555555555555556,\"#d8576b\"],[0.6666666666666666,\"#ed7953\"],[0.7777777777777778,\"#fb9f3a\"],[0.8888888888888888,\"#fdca26\"],[1.0,\"#f0f921\"]]}],\"mesh3d\":[{\"type\":\"mesh3d\",\"colorbar\":{\"outlinewidth\":0,\"ticks\":\"\"}}],\"scatter\":[{\"fillpattern\":{\"fillmode\":\"overlay\",\"size\":10,\"solidity\":0.2},\"type\":\"scatter\"}],\"parcoords\":[{\"type\":\"parcoords\",\"line\":{\"colorbar\":{\"outlinewidth\":0,\"ticks\":\"\"}}}],\"scatterpolargl\":[{\"type\":\"scatterpolargl\",\"marker\":{\"colorbar\":{\"outlinewidth\":0,\"ticks\":\"\"}}}],\"bar\":[{\"error_x\":{\"color\":\"#2a3f5f\"},\"error_y\":{\"color\":\"#2a3f5f\"},\"marker\":{\"line\":{\"color\":\"#E5ECF6\",\"width\":0.5},\"pattern\":{\"fillmode\":\"overlay\",\"size\":10,\"solidity\":0.2}},\"type\":\"bar\"}],\"scattergeo\":[{\"type\":\"scattergeo\",\"marker\":{\"colorbar\":{\"outlinewidth\":0,\"ticks\":\"\"}}}],\"scatterpolar\":[{\"type\":\"scatterpolar\",\"marker\":{\"colorbar\":{\"outlinewidth\":0,\"ticks\":\"\"}}}],\"histogram\":[{\"marker\":{\"pattern\":{\"fillmode\":\"overlay\",\"size\":10,\"solidity\":0.2}},\"type\":\"histogram\"}],\"scattergl\":[{\"type\":\"scattergl\",\"marker\":{\"colorbar\":{\"outlinewidth\":0,\"ticks\":\"\"}}}],\"scatter3d\":[{\"type\":\"scatter3d\",\"line\":{\"colorbar\":{\"outlinewidth\":0,\"ticks\":\"\"}},\"marker\":{\"colorbar\":{\"outlinewidth\":0,\"ticks\":\"\"}}}],\"scattermapbox\":[{\"type\":\"scattermapbox\",\"marker\":{\"colorbar\":{\"outlinewidth\":0,\"ticks\":\"\"}}}],\"scatterternary\":[{\"type\":\"scatterternary\",\"marker\":{\"colorbar\":{\"outlinewidth\":0,\"ticks\":\"\"}}}],\"scattercarpet\":[{\"type\":\"scattercarpet\",\"marker\":{\"colorbar\":{\"outlinewidth\":0,\"ticks\":\"\"}}}],\"carpet\":[{\"aaxis\":{\"endlinecolor\":\"#2a3f5f\",\"gridcolor\":\"white\",\"linecolor\":\"white\",\"minorgridcolor\":\"white\",\"startlinecolor\":\"#2a3f5f\"},\"baxis\":{\"endlinecolor\":\"#2a3f5f\",\"gridcolor\":\"white\",\"linecolor\":\"white\",\"minorgridcolor\":\"white\",\"startlinecolor\":\"#2a3f5f\"},\"type\":\"carpet\"}],\"table\":[{\"cells\":{\"fill\":{\"color\":\"#EBF0F8\"},\"line\":{\"color\":\"white\"}},\"header\":{\"fill\":{\"color\":\"#C8D4E3\"},\"line\":{\"color\":\"white\"}},\"type\":\"table\"}],\"barpolar\":[{\"marker\":{\"line\":{\"color\":\"#E5ECF6\",\"width\":0.5},\"pattern\":{\"fillmode\":\"overlay\",\"size\":10,\"solidity\":0.2}},\"type\":\"barpolar\"}],\"pie\":[{\"automargin\":true,\"type\":\"pie\"}]},\"layout\":{\"autotypenumbers\":\"strict\",\"colorway\":[\"#636efa\",\"#EF553B\",\"#00cc96\",\"#ab63fa\",\"#FFA15A\",\"#19d3f3\",\"#FF6692\",\"#B6E880\",\"#FF97FF\",\"#FECB52\"],\"font\":{\"color\":\"#2a3f5f\"},\"hovermode\":\"closest\",\"hoverlabel\":{\"align\":\"left\"},\"paper_bgcolor\":\"white\",\"plot_bgcolor\":\"#E5ECF6\",\"polar\":{\"bgcolor\":\"#E5ECF6\",\"angularaxis\":{\"gridcolor\":\"white\",\"linecolor\":\"white\",\"ticks\":\"\"},\"radialaxis\":{\"gridcolor\":\"white\",\"linecolor\":\"white\",\"ticks\":\"\"}},\"ternary\":{\"bgcolor\":\"#E5ECF6\",\"aaxis\":{\"gridcolor\":\"white\",\"linecolor\":\"white\",\"ticks\":\"\"},\"baxis\":{\"gridcolor\":\"white\",\"linecolor\":\"white\",\"ticks\":\"\"},\"caxis\":{\"gridcolor\":\"white\",\"linecolor\":\"white\",\"ticks\":\"\"}},\"coloraxis\":{\"colorbar\":{\"outlinewidth\":0,\"ticks\":\"\"}},\"colorscale\":{\"sequential\":[[0.0,\"#0d0887\"],[0.1111111111111111,\"#46039f\"],[0.2222222222222222,\"#7201a8\"],[0.3333333333333333,\"#9c179e\"],[0.4444444444444444,\"#bd3786\"],[0.5555555555555556,\"#d8576b\"],[0.6666666666666666,\"#ed7953\"],[0.7777777777777778,\"#fb9f3a\"],[0.8888888888888888,\"#fdca26\"],[1.0,\"#f0f921\"]],\"sequentialminus\":[[0.0,\"#0d0887\"],[0.1111111111111111,\"#46039f\"],[0.2222222222222222,\"#7201a8\"],[0.3333333333333333,\"#9c179e\"],[0.4444444444444444,\"#bd3786\"],[0.5555555555555556,\"#d8576b\"],[0.6666666666666666,\"#ed7953\"],[0.7777777777777778,\"#fb9f3a\"],[0.8888888888888888,\"#fdca26\"],[1.0,\"#f0f921\"]],\"diverging\":[[0,\"#8e0152\"],[0.1,\"#c51b7d\"],[0.2,\"#de77ae\"],[0.3,\"#f1b6da\"],[0.4,\"#fde0ef\"],[0.5,\"#f7f7f7\"],[0.6,\"#e6f5d0\"],[0.7,\"#b8e186\"],[0.8,\"#7fbc41\"],[0.9,\"#4d9221\"],[1,\"#276419\"]]},\"xaxis\":{\"gridcolor\":\"white\",\"linecolor\":\"white\",\"ticks\":\"\",\"title\":{\"standoff\":15},\"zerolinecolor\":\"white\",\"automargin\":true,\"zerolinewidth\":2},\"yaxis\":{\"gridcolor\":\"white\",\"linecolor\":\"white\",\"ticks\":\"\",\"title\":{\"standoff\":15},\"zerolinecolor\":\"white\",\"automargin\":true,\"zerolinewidth\":2},\"scene\":{\"xaxis\":{\"backgroundcolor\":\"#E5ECF6\",\"gridcolor\":\"white\",\"linecolor\":\"white\",\"showbackground\":true,\"ticks\":\"\",\"zerolinecolor\":\"white\",\"gridwidth\":2},\"yaxis\":{\"backgroundcolor\":\"#E5ECF6\",\"gridcolor\":\"white\",\"linecolor\":\"white\",\"showbackground\":true,\"ticks\":\"\",\"zerolinecolor\":\"white\",\"gridwidth\":2},\"zaxis\":{\"backgroundcolor\":\"#E5ECF6\",\"gridcolor\":\"white\",\"linecolor\":\"white\",\"showbackground\":true,\"ticks\":\"\",\"zerolinecolor\":\"white\",\"gridwidth\":2}},\"shapedefaults\":{\"line\":{\"color\":\"#2a3f5f\"}},\"annotationdefaults\":{\"arrowcolor\":\"#2a3f5f\",\"arrowhead\":0,\"arrowwidth\":1},\"geo\":{\"bgcolor\":\"white\",\"landcolor\":\"#E5ECF6\",\"subunitcolor\":\"white\",\"showland\":true,\"showlakes\":true,\"lakecolor\":\"white\"},\"title\":{\"x\":0.05},\"mapbox\":{\"style\":\"light\"}}},\"xaxis\":{\"anchor\":\"y\",\"domain\":[0.575,1.0]},\"yaxis\":{\"anchor\":\"x\",\"domain\":[0.56,1.0],\"title\":{\"text\":\"Точность\"},\"range\":[0.8841584158415842,0.9754761904761905]},\"xaxis2\":{\"anchor\":\"y2\",\"domain\":[0.0,0.425]},\"yaxis2\":{\"anchor\":\"x2\",\"domain\":[0.0,0.44]},\"xaxis3\":{\"anchor\":\"y3\",\"domain\":[0.575,1.0]},\"yaxis3\":{\"anchor\":\"x3\",\"domain\":[0.0,0.44],\"title\":{\"text\":\"Значение\"},\"range\":[0,1.05]},\"annotations\":[{\"font\":{\"size\":16},\"showarrow\":false,\"text\":\"Средняя точность CV (94.7%)\",\"x\":0.2125,\"xanchor\":\"center\",\"xref\":\"paper\",\"y\":1.0,\"yanchor\":\"bottom\",\"yref\":\"paper\"},{\"font\":{\"size\":16},\"showarrow\":false,\"text\":\"Точность по 10 фолдам\",\"x\":0.7875,\"xanchor\":\"center\",\"xref\":\"paper\",\"y\":1.0,\"yanchor\":\"bottom\",\"yref\":\"paper\"},{\"font\":{\"size\":16},\"showarrow\":false,\"text\":\"Матрица ошибок (CV)\",\"x\":0.2125,\"xanchor\":\"center\",\"xref\":\"paper\",\"y\":0.44,\"yanchor\":\"bottom\",\"yref\":\"paper\"},{\"font\":{\"size\":16},\"showarrow\":false,\"text\":\"Метрики по классам (CV)\",\"x\":0.7875,\"xanchor\":\"center\",\"xref\":\"paper\",\"y\":0.44,\"yanchor\":\"bottom\",\"yref\":\"paper\"}],\"title\":{\"font\":{\"size\":18},\"text\":\"\\u003cb\\u003eКросс-валидация\\u003c\\u002fb\\u003e\",\"x\":0.5},\"legend\":{\"x\":0.99,\"y\":0.01,\"xanchor\":\"right\",\"yanchor\":\"bottom\"},\"height\":800,\"width\":1200,\"showlegend\":true,\"barmode\":\"group\"},                        {\"responsive\": true}                    ).then(function(){\n",
              "                            \n",
              "var gd = document.getElementById('3798efad-ad24-41ca-b0f6-7455dbc928c4');\n",
              "var x = new MutationObserver(function (mutations, observer) {{\n",
              "        var display = window.getComputedStyle(gd).display;\n",
              "        if (!display || display === 'none') {{\n",
              "            console.log([gd, 'removed!']);\n",
              "            Plotly.purge(gd);\n",
              "            observer.disconnect();\n",
              "        }}\n",
              "}});\n",
              "\n",
              "// Listen for the removal of the full notebook cells\n",
              "var notebookContainer = gd.closest('#notebook-container');\n",
              "if (notebookContainer) {{\n",
              "    x.observe(notebookContainer, {childList: true});\n",
              "}}\n",
              "\n",
              "// Listen for the clearing of the current output cell\n",
              "var outputEl = gd.closest('.output');\n",
              "if (outputEl) {{\n",
              "    x.observe(outputEl, {childList: true});\n",
              "}}\n",
              "\n",
              "                        })                };                            </script>        </div>\n",
              "</body>\n",
              "</html>"
            ]
          },
          "metadata": {}
        }
      ],
      "source": [
        "import numpy as np\n",
        "acc = accuracy_score(y_train, y_pred_cv)\n",
        "report = classification_report(y_train, y_pred_cv, output_dict=True)\n",
        "cm = confusion_matrix(y_train, y_pred_cv, labels=['FAKE', 'REAL'])\n",
        "\n",
        "fig = make_subplots(\n",
        "    rows=2, cols=2,\n",
        "    specs=[[{\"type\": \"indicator\"}, {\"type\": \"xy\"}],\n",
        "           [{\"type\": \"xy\"}, {\"type\": \"xy\"}]],\n",
        "    subplot_titles=(\n",
        "        f\"Средняя точность CV ({acc:.1%})\",\n",
        "        f\"Точность по {n_splits} фолдам\",\n",
        "        \"Матрица ошибок (CV)\",\n",
        "        \"Метрики по классам (CV)\"\n",
        "    ),\n",
        "    vertical_spacing=0.12, horizontal_spacing=0.15\n",
        ")\n",
        "\n",
        "fig.add_trace(go.Indicator(\n",
        "    mode=\"gauge+number\", value=acc * 100,\n",
        "    gauge={'axis': {'range': [80, 100], 'tickwidth': 1, 'dtick': 5},\n",
        "           'bar': {'color': COLORS['primary'], 'thickness': 0.7},\n",
        "           'steps': [{'range': [80, 90], 'color': COLORS['FAKE']},\n",
        "                    {'range': [90, 100], 'color': COLORS['REAL']}],\n",
        "           'threshold': {'line': {'color': \"red\", 'width': 4},\n",
        "                        'thickness': 0.75, 'value': 90}}\n",
        "), row=1, col=1)\n",
        "\n",
        "mean_acc = np.mean(cv_accuracy_scores)\n",
        "std_acc = np.std(cv_accuracy_scores)\n",
        "fig.add_trace(go.Scatter(\n",
        "    x=list(range(1, len(cv_accuracy_scores) + 1)), y=cv_accuracy_scores,\n",
        "    mode='markers+lines', name=\"Точность фолда\",\n",
        "    marker=dict(color=[COLORS['REAL'] if s >= mean_acc else COLORS['FAKE']\n",
        "                      for s in cv_accuracy_scores], size=8),\n",
        "    line=dict(color='gray', width=2),\n",
        "    text=[f'{s:.1%}' for s in cv_accuracy_scores],\n",
        "    textposition='top center'\n",
        "), row=1, col=2)\n",
        "\n",
        "fig.add_trace(go.Scatter(\n",
        "    x=list(range(1, len(cv_accuracy_scores) + 1)),\n",
        "    y=[mean_acc] * len(cv_accuracy_scores),\n",
        "    mode='lines', name=f\"Среднее: {mean_acc:.1%}\",\n",
        "    line=dict(dash='dash', color='blue', width=2),\n",
        "    showlegend=False\n",
        "), row=1, col=2)\n",
        "\n",
        "fig.update_yaxes(range=[min(cv_accuracy_scores)*0.95, max(cv_accuracy_scores)*1.02],\n",
        "                title_text=\"Точность\", row=1, col=2)\n",
        "\n",
        "cm_norm = cm.astype('float') / cm.sum(axis=1)[:, np.newaxis]\n",
        "fig.add_trace(go.Heatmap(\n",
        "    z=cm_norm, x=['FAKE', 'REAL'], y=['FAKE', 'REAL'],\n",
        "    text=[[f'{cm[i,j]}<br>({cm_norm[i,j]:.1%})' for j in range(2)] for i in range(2)],\n",
        "    texttemplate='%{text}', colorscale='Blues',\n",
        "    hovertemplate=\"Истина: %{y}<br>Предсказание: %{x}<br>%{text}<extra></extra>\"\n",
        "), row=2, col=1)\n",
        "\n",
        "metrics = ['precision', 'recall', 'f1-score']\n",
        "classes = ['FAKE', 'REAL']\n",
        "colors = [COLORS['FAKE'], COLORS['REAL']]\n",
        "\n",
        "for i, cls in enumerate(classes):\n",
        "    vals = [report[cls][m] for m in metrics]\n",
        "    fig.add_trace(go.Bar(\n",
        "        x=metrics, y=vals, name=cls, marker_color=colors[i],\n",
        "        text=[f'{v:.3f}' for v in vals], textposition='outside',\n",
        "        error_y=dict(type='constant', value=0.01, visible=True)\n",
        "    ), row=2, col=2)\n",
        "\n",
        "fig.update_yaxes(range=[0, 1.05], title_text=\"Значение\", row=2, col=2)\n",
        "\n",
        "fig.update_layout(\n",
        "    height=800, width=1200,\n",
        "    title={'text': f'<b>Кросс-валидация</b>',\n",
        "           'x': 0.5, 'font': {'size': 18}},\n",
        "    showlegend=True,\n",
        "    legend=dict(x=0.99, y=0.01, xanchor='right', yanchor='bottom'),\n",
        "    barmode='group'\n",
        ")\n",
        "\n",
        "fig.show()"
      ]
    },
    {
      "cell_type": "markdown",
      "metadata": {
        "id": "FisjIrsfnG_Q"
      },
      "source": [
        "# 4.Обучение и сохранение финальной модели"
      ]
    },
    {
      "cell_type": "code",
      "execution_count": null,
      "metadata": {
        "id": "LEUyQSmlPqUs"
      },
      "outputs": [],
      "source": [
        "pipeline.fit(X_train, y_train)\n",
        "y_pred = pipeline.predict(X_test)"
      ]
    },
    {
      "cell_type": "code",
      "source": [
        "acc = accuracy_score(y_test, y_pred)\n",
        "report = classification_report(y_test, y_pred, output_dict=True)\n",
        "cm = confusion_matrix(y_test, y_pred, labels=['FAKE', 'REAL'])\n",
        "\n",
        "fig = make_subplots(\n",
        "    rows=2, cols=2,\n",
        "    specs=[[{\"type\": \"indicator\"}, {\"type\": \"xy\"}], [{\"type\": \"xy\"}, {\"type\": \"table\"}]],\n",
        "    subplot_titles=(\"Общая точность\", \"Метрики по классам\", \"Матрица ошибок\", \"Сводная таблица\"),\n",
        "    vertical_spacing=0.12, horizontal_spacing=0.1\n",
        ")\n",
        "\n",
        "fig.add_trace(go.Indicator(\n",
        "    mode=\"gauge+number\", value=acc * 100,\n",
        "    gauge={'axis': {'range': [80, 100], 'tickwidth': 1, 'dtick': 5},\n",
        "           'bar': {'color': COLORS['primary'], 'thickness': 0.7},\n",
        "           'steps': [{'range': [80, 90], 'color': COLORS['FAKE']},\n",
        "                    {'range': [90, 100], 'color': COLORS['REAL']}],\n",
        "           'threshold': {'line': {'color': \"red\", 'width': 3},\n",
        "                        'thickness': 0.75, 'value': 90}}\n",
        "), row=1, col=1)\n",
        "\n",
        "\n",
        "cm_norm = cm.astype('float') / cm.sum(axis=1)[:, np.newaxis]\n",
        "fig.add_trace(go.Heatmap(\n",
        "    z=cm_norm, x=['Предсказано FAKE', 'Предсказано REAL'],\n",
        "    y=['Истина FAKE', 'Истина REAL'],\n",
        "    text=[[f'{cm[i,j]}<br>({cm_norm[i,j]:.1%})' for j in range(2)] for i in range(2)],\n",
        "    texttemplate='%{text}', colorscale='Blues', zmin=0, zmax=1,\n",
        "    hovertemplate=\"Истина: %{y}<br>Предсказано: %{x}<br>Доля: %{z:.1%}<extra></extra>\"\n",
        "), row=2, col=1)\n",
        "\n",
        "for i, cls in enumerate(['FAKE', 'REAL']):\n",
        "    vals = [report[cls][m] for m in ['precision', 'recall', 'f1-score']]\n",
        "    fig.add_trace(go.Bar(\n",
        "        x=['Precision', 'Recall', 'F1-Score'], y=vals, name=cls,\n",
        "        marker_color=COLORS[cls], text=[f'{v:.2f}' for v in vals],\n",
        "        textposition='outside', yaxis='y2'\n",
        "    ), row=1, col=2)\n",
        "\n",
        "table_data = [\n",
        "    ['Метрика', 'FAKE', 'REAL', 'Macro Avg', 'Weighted Avg'],\n",
        "    ['Precision', f\"{report['FAKE']['precision']:.2f}\", f\"{report['REAL']['precision']:.2f}\",\n",
        "     f\"{report['macro avg']['precision']:.2f}\", f\"{report['weighted avg']['precision']:.2f}\"],\n",
        "    ['Recall', f\"{report['FAKE']['recall']:.2f}\", f\"{report['REAL']['recall']:.2f}\",\n",
        "     f\"{report['macro avg']['recall']:.2f}\", f\"{report['weighted avg']['recall']:.2f}\"],\n",
        "    ['F1-Score', f\"{report['FAKE']['f1-score']:.2f}\", f\"{report['REAL']['f1-score']:.2f}\",\n",
        "     f\"{report['macro avg']['f1-score']:.2f}\", f\"{report['weighted avg']['f1-score']:.2f}\"]\n",
        "]\n",
        "\n",
        "fig.add_trace(go.Table(\n",
        "    header=dict(values=table_data[0], fill_color='lightblue', font=dict(size=12)),\n",
        "    cells=dict(values=list(zip(*table_data[1:])), fill_color='white', font=dict(size=11))\n",
        "), row=2, col=2)\n",
        "\n",
        "fig.update_yaxes(range=[0, 1.05], tickformat='.1%', title=\"Значение\", row=1, col=2)\n",
        "fig.update_xaxes(title=\"Метрики\", row=1, col=2)\n",
        "fig.update_layout(\n",
        "    height=800, width=1200, title=\"Анализ производительности модели\",\n",
        "    showlegend=False, barmode='group', font=dict(size=11)\n",
        ")\n"
      ],
      "metadata": {
        "colab": {
          "base_uri": "https://localhost:8080/",
          "height": 817
        },
        "id": "ZmsXCc4F_e0g",
        "outputId": "9811f7e5-c84d-41c5-f693-b2f2afb10004"
      },
      "execution_count": 92,
      "outputs": [
        {
          "output_type": "display_data",
          "data": {
            "text/html": [
              "<html>\n",
              "<head><meta charset=\"utf-8\" /></head>\n",
              "<body>\n",
              "    <div>            <script src=\"https://cdnjs.cloudflare.com/ajax/libs/mathjax/2.7.5/MathJax.js?config=TeX-AMS-MML_SVG\"></script><script type=\"text/javascript\">if (window.MathJax && window.MathJax.Hub && window.MathJax.Hub.Config) {window.MathJax.Hub.Config({SVG: {font: \"STIX-Web\"}});}</script>                <script type=\"text/javascript\">window.PlotlyConfig = {MathJaxConfig: 'local'};</script>\n",
              "        <script charset=\"utf-8\" src=\"https://cdn.plot.ly/plotly-2.35.2.min.js\"></script>                <div id=\"ecb40013-806a-425a-988d-8d85a9f7ec2b\" class=\"plotly-graph-div\" style=\"height:800px; width:1200px;\"></div>            <script type=\"text/javascript\">                                    window.PLOTLYENV=window.PLOTLYENV || {};                                    if (document.getElementById(\"ecb40013-806a-425a-988d-8d85a9f7ec2b\")) {                    Plotly.newPlot(                        \"ecb40013-806a-425a-988d-8d85a9f7ec2b\",                        [{\"gauge\":{\"axis\":{\"dtick\":5,\"range\":[80,100],\"tickwidth\":1},\"bar\":{\"color\":\"#667eea\",\"thickness\":0.7},\"steps\":[{\"color\":\"#FF6B6B\",\"range\":[80,90]},{\"color\":\"#4ECDC4\",\"range\":[90,100]}],\"threshold\":{\"line\":{\"color\":\"red\",\"width\":3},\"thickness\":0.75,\"value\":90}},\"mode\":\"gauge+number\",\"value\":95.1664025356577,\"type\":\"indicator\",\"domain\":{\"x\":[0.0,0.45],\"y\":[0.56,1.0]}},{\"colorscale\":[[0.0,\"rgb(247,251,255)\"],[0.125,\"rgb(222,235,247)\"],[0.25,\"rgb(198,219,239)\"],[0.375,\"rgb(158,202,225)\"],[0.5,\"rgb(107,174,214)\"],[0.625,\"rgb(66,146,198)\"],[0.75,\"rgb(33,113,181)\"],[0.875,\"rgb(8,81,156)\"],[1.0,\"rgb(8,48,107)\"]],\"hovertemplate\":\"Истина: %{y}\\u003cbr\\u003eПредсказано: %{x}\\u003cbr\\u003eДоля: %{z:.1%}\\u003cextra\\u003e\\u003c\\u002fextra\\u003e\",\"text\":[[\"598\\u003cbr\\u003e(94.8%)\",\"33\\u003cbr\\u003e(5.2%)\"],[\"28\\u003cbr\\u003e(4.4%)\",\"603\\u003cbr\\u003e(95.6%)\"]],\"texttemplate\":\"%{text}\",\"x\":[\"Предсказано FAKE\",\"Предсказано REAL\"],\"y\":[\"Истина FAKE\",\"Истина REAL\"],\"z\":[[0.9477020602218701,0.05229793977812995],[0.044374009508716325,0.9556259904912837]],\"zmax\":1,\"zmin\":0,\"type\":\"heatmap\",\"xaxis\":\"x2\",\"yaxis\":\"y2\"},{\"marker\":{\"color\":\"#FF6B6B\"},\"name\":\"FAKE\",\"text\":[\"0.96\",\"0.95\",\"0.95\"],\"textposition\":\"outside\",\"x\":[\"Precision\",\"Recall\",\"F1-Score\"],\"y\":[0.9552715654952076,0.9477020602218701,0.9514717581543357],\"yaxis\":\"y\",\"type\":\"bar\",\"xaxis\":\"x\"},{\"marker\":{\"color\":\"#4ECDC4\"},\"name\":\"REAL\",\"text\":[\"0.95\",\"0.96\",\"0.95\"],\"textposition\":\"outside\",\"x\":[\"Precision\",\"Recall\",\"F1-Score\"],\"y\":[0.9481132075471698,0.9556259904912837,0.9518547750591949],\"yaxis\":\"y\",\"type\":\"bar\",\"xaxis\":\"x\"},{\"cells\":{\"fill\":{\"color\":\"white\"},\"font\":{\"size\":11},\"values\":[[\"Precision\",\"Recall\",\"F1-Score\"],[\"0.96\",\"0.95\",\"0.95\"],[\"0.95\",\"0.96\",\"0.95\"],[\"0.95\",\"0.95\",\"0.95\"],[\"0.95\",\"0.95\",\"0.95\"]]},\"header\":{\"fill\":{\"color\":\"lightblue\"},\"font\":{\"size\":12},\"values\":[\"Метрика\",\"FAKE\",\"REAL\",\"Macro Avg\",\"Weighted Avg\"]},\"type\":\"table\",\"domain\":{\"x\":[0.55,1.0],\"y\":[0.0,0.44]}}],                        {\"template\":{\"data\":{\"histogram2dcontour\":[{\"type\":\"histogram2dcontour\",\"colorbar\":{\"outlinewidth\":0,\"ticks\":\"\"},\"colorscale\":[[0.0,\"#0d0887\"],[0.1111111111111111,\"#46039f\"],[0.2222222222222222,\"#7201a8\"],[0.3333333333333333,\"#9c179e\"],[0.4444444444444444,\"#bd3786\"],[0.5555555555555556,\"#d8576b\"],[0.6666666666666666,\"#ed7953\"],[0.7777777777777778,\"#fb9f3a\"],[0.8888888888888888,\"#fdca26\"],[1.0,\"#f0f921\"]]}],\"choropleth\":[{\"type\":\"choropleth\",\"colorbar\":{\"outlinewidth\":0,\"ticks\":\"\"}}],\"histogram2d\":[{\"type\":\"histogram2d\",\"colorbar\":{\"outlinewidth\":0,\"ticks\":\"\"},\"colorscale\":[[0.0,\"#0d0887\"],[0.1111111111111111,\"#46039f\"],[0.2222222222222222,\"#7201a8\"],[0.3333333333333333,\"#9c179e\"],[0.4444444444444444,\"#bd3786\"],[0.5555555555555556,\"#d8576b\"],[0.6666666666666666,\"#ed7953\"],[0.7777777777777778,\"#fb9f3a\"],[0.8888888888888888,\"#fdca26\"],[1.0,\"#f0f921\"]]}],\"heatmap\":[{\"type\":\"heatmap\",\"colorbar\":{\"outlinewidth\":0,\"ticks\":\"\"},\"colorscale\":[[0.0,\"#0d0887\"],[0.1111111111111111,\"#46039f\"],[0.2222222222222222,\"#7201a8\"],[0.3333333333333333,\"#9c179e\"],[0.4444444444444444,\"#bd3786\"],[0.5555555555555556,\"#d8576b\"],[0.6666666666666666,\"#ed7953\"],[0.7777777777777778,\"#fb9f3a\"],[0.8888888888888888,\"#fdca26\"],[1.0,\"#f0f921\"]]}],\"heatmapgl\":[{\"type\":\"heatmapgl\",\"colorbar\":{\"outlinewidth\":0,\"ticks\":\"\"},\"colorscale\":[[0.0,\"#0d0887\"],[0.1111111111111111,\"#46039f\"],[0.2222222222222222,\"#7201a8\"],[0.3333333333333333,\"#9c179e\"],[0.4444444444444444,\"#bd3786\"],[0.5555555555555556,\"#d8576b\"],[0.6666666666666666,\"#ed7953\"],[0.7777777777777778,\"#fb9f3a\"],[0.8888888888888888,\"#fdca26\"],[1.0,\"#f0f921\"]]}],\"contourcarpet\":[{\"type\":\"contourcarpet\",\"colorbar\":{\"outlinewidth\":0,\"ticks\":\"\"}}],\"contour\":[{\"type\":\"contour\",\"colorbar\":{\"outlinewidth\":0,\"ticks\":\"\"},\"colorscale\":[[0.0,\"#0d0887\"],[0.1111111111111111,\"#46039f\"],[0.2222222222222222,\"#7201a8\"],[0.3333333333333333,\"#9c179e\"],[0.4444444444444444,\"#bd3786\"],[0.5555555555555556,\"#d8576b\"],[0.6666666666666666,\"#ed7953\"],[0.7777777777777778,\"#fb9f3a\"],[0.8888888888888888,\"#fdca26\"],[1.0,\"#f0f921\"]]}],\"surface\":[{\"type\":\"surface\",\"colorbar\":{\"outlinewidth\":0,\"ticks\":\"\"},\"colorscale\":[[0.0,\"#0d0887\"],[0.1111111111111111,\"#46039f\"],[0.2222222222222222,\"#7201a8\"],[0.3333333333333333,\"#9c179e\"],[0.4444444444444444,\"#bd3786\"],[0.5555555555555556,\"#d8576b\"],[0.6666666666666666,\"#ed7953\"],[0.7777777777777778,\"#fb9f3a\"],[0.8888888888888888,\"#fdca26\"],[1.0,\"#f0f921\"]]}],\"mesh3d\":[{\"type\":\"mesh3d\",\"colorbar\":{\"outlinewidth\":0,\"ticks\":\"\"}}],\"scatter\":[{\"fillpattern\":{\"fillmode\":\"overlay\",\"size\":10,\"solidity\":0.2},\"type\":\"scatter\"}],\"parcoords\":[{\"type\":\"parcoords\",\"line\":{\"colorbar\":{\"outlinewidth\":0,\"ticks\":\"\"}}}],\"scatterpolargl\":[{\"type\":\"scatterpolargl\",\"marker\":{\"colorbar\":{\"outlinewidth\":0,\"ticks\":\"\"}}}],\"bar\":[{\"error_x\":{\"color\":\"#2a3f5f\"},\"error_y\":{\"color\":\"#2a3f5f\"},\"marker\":{\"line\":{\"color\":\"#E5ECF6\",\"width\":0.5},\"pattern\":{\"fillmode\":\"overlay\",\"size\":10,\"solidity\":0.2}},\"type\":\"bar\"}],\"scattergeo\":[{\"type\":\"scattergeo\",\"marker\":{\"colorbar\":{\"outlinewidth\":0,\"ticks\":\"\"}}}],\"scatterpolar\":[{\"type\":\"scatterpolar\",\"marker\":{\"colorbar\":{\"outlinewidth\":0,\"ticks\":\"\"}}}],\"histogram\":[{\"marker\":{\"pattern\":{\"fillmode\":\"overlay\",\"size\":10,\"solidity\":0.2}},\"type\":\"histogram\"}],\"scattergl\":[{\"type\":\"scattergl\",\"marker\":{\"colorbar\":{\"outlinewidth\":0,\"ticks\":\"\"}}}],\"scatter3d\":[{\"type\":\"scatter3d\",\"line\":{\"colorbar\":{\"outlinewidth\":0,\"ticks\":\"\"}},\"marker\":{\"colorbar\":{\"outlinewidth\":0,\"ticks\":\"\"}}}],\"scattermapbox\":[{\"type\":\"scattermapbox\",\"marker\":{\"colorbar\":{\"outlinewidth\":0,\"ticks\":\"\"}}}],\"scatterternary\":[{\"type\":\"scatterternary\",\"marker\":{\"colorbar\":{\"outlinewidth\":0,\"ticks\":\"\"}}}],\"scattercarpet\":[{\"type\":\"scattercarpet\",\"marker\":{\"colorbar\":{\"outlinewidth\":0,\"ticks\":\"\"}}}],\"carpet\":[{\"aaxis\":{\"endlinecolor\":\"#2a3f5f\",\"gridcolor\":\"white\",\"linecolor\":\"white\",\"minorgridcolor\":\"white\",\"startlinecolor\":\"#2a3f5f\"},\"baxis\":{\"endlinecolor\":\"#2a3f5f\",\"gridcolor\":\"white\",\"linecolor\":\"white\",\"minorgridcolor\":\"white\",\"startlinecolor\":\"#2a3f5f\"},\"type\":\"carpet\"}],\"table\":[{\"cells\":{\"fill\":{\"color\":\"#EBF0F8\"},\"line\":{\"color\":\"white\"}},\"header\":{\"fill\":{\"color\":\"#C8D4E3\"},\"line\":{\"color\":\"white\"}},\"type\":\"table\"}],\"barpolar\":[{\"marker\":{\"line\":{\"color\":\"#E5ECF6\",\"width\":0.5},\"pattern\":{\"fillmode\":\"overlay\",\"size\":10,\"solidity\":0.2}},\"type\":\"barpolar\"}],\"pie\":[{\"automargin\":true,\"type\":\"pie\"}]},\"layout\":{\"autotypenumbers\":\"strict\",\"colorway\":[\"#636efa\",\"#EF553B\",\"#00cc96\",\"#ab63fa\",\"#FFA15A\",\"#19d3f3\",\"#FF6692\",\"#B6E880\",\"#FF97FF\",\"#FECB52\"],\"font\":{\"color\":\"#2a3f5f\"},\"hovermode\":\"closest\",\"hoverlabel\":{\"align\":\"left\"},\"paper_bgcolor\":\"white\",\"plot_bgcolor\":\"#E5ECF6\",\"polar\":{\"bgcolor\":\"#E5ECF6\",\"angularaxis\":{\"gridcolor\":\"white\",\"linecolor\":\"white\",\"ticks\":\"\"},\"radialaxis\":{\"gridcolor\":\"white\",\"linecolor\":\"white\",\"ticks\":\"\"}},\"ternary\":{\"bgcolor\":\"#E5ECF6\",\"aaxis\":{\"gridcolor\":\"white\",\"linecolor\":\"white\",\"ticks\":\"\"},\"baxis\":{\"gridcolor\":\"white\",\"linecolor\":\"white\",\"ticks\":\"\"},\"caxis\":{\"gridcolor\":\"white\",\"linecolor\":\"white\",\"ticks\":\"\"}},\"coloraxis\":{\"colorbar\":{\"outlinewidth\":0,\"ticks\":\"\"}},\"colorscale\":{\"sequential\":[[0.0,\"#0d0887\"],[0.1111111111111111,\"#46039f\"],[0.2222222222222222,\"#7201a8\"],[0.3333333333333333,\"#9c179e\"],[0.4444444444444444,\"#bd3786\"],[0.5555555555555556,\"#d8576b\"],[0.6666666666666666,\"#ed7953\"],[0.7777777777777778,\"#fb9f3a\"],[0.8888888888888888,\"#fdca26\"],[1.0,\"#f0f921\"]],\"sequentialminus\":[[0.0,\"#0d0887\"],[0.1111111111111111,\"#46039f\"],[0.2222222222222222,\"#7201a8\"],[0.3333333333333333,\"#9c179e\"],[0.4444444444444444,\"#bd3786\"],[0.5555555555555556,\"#d8576b\"],[0.6666666666666666,\"#ed7953\"],[0.7777777777777778,\"#fb9f3a\"],[0.8888888888888888,\"#fdca26\"],[1.0,\"#f0f921\"]],\"diverging\":[[0,\"#8e0152\"],[0.1,\"#c51b7d\"],[0.2,\"#de77ae\"],[0.3,\"#f1b6da\"],[0.4,\"#fde0ef\"],[0.5,\"#f7f7f7\"],[0.6,\"#e6f5d0\"],[0.7,\"#b8e186\"],[0.8,\"#7fbc41\"],[0.9,\"#4d9221\"],[1,\"#276419\"]]},\"xaxis\":{\"gridcolor\":\"white\",\"linecolor\":\"white\",\"ticks\":\"\",\"title\":{\"standoff\":15},\"zerolinecolor\":\"white\",\"automargin\":true,\"zerolinewidth\":2},\"yaxis\":{\"gridcolor\":\"white\",\"linecolor\":\"white\",\"ticks\":\"\",\"title\":{\"standoff\":15},\"zerolinecolor\":\"white\",\"automargin\":true,\"zerolinewidth\":2},\"scene\":{\"xaxis\":{\"backgroundcolor\":\"#E5ECF6\",\"gridcolor\":\"white\",\"linecolor\":\"white\",\"showbackground\":true,\"ticks\":\"\",\"zerolinecolor\":\"white\",\"gridwidth\":2},\"yaxis\":{\"backgroundcolor\":\"#E5ECF6\",\"gridcolor\":\"white\",\"linecolor\":\"white\",\"showbackground\":true,\"ticks\":\"\",\"zerolinecolor\":\"white\",\"gridwidth\":2},\"zaxis\":{\"backgroundcolor\":\"#E5ECF6\",\"gridcolor\":\"white\",\"linecolor\":\"white\",\"showbackground\":true,\"ticks\":\"\",\"zerolinecolor\":\"white\",\"gridwidth\":2}},\"shapedefaults\":{\"line\":{\"color\":\"#2a3f5f\"}},\"annotationdefaults\":{\"arrowcolor\":\"#2a3f5f\",\"arrowhead\":0,\"arrowwidth\":1},\"geo\":{\"bgcolor\":\"white\",\"landcolor\":\"#E5ECF6\",\"subunitcolor\":\"white\",\"showland\":true,\"showlakes\":true,\"lakecolor\":\"white\"},\"title\":{\"x\":0.05},\"mapbox\":{\"style\":\"light\"}}},\"xaxis\":{\"anchor\":\"y\",\"domain\":[0.55,1.0],\"title\":{\"text\":\"Метрики\"}},\"yaxis\":{\"anchor\":\"x\",\"domain\":[0.56,1.0],\"range\":[0,1.05],\"tickformat\":\".1%\",\"title\":{\"text\":\"Значение\"}},\"xaxis2\":{\"anchor\":\"y2\",\"domain\":[0.0,0.45]},\"yaxis2\":{\"anchor\":\"x2\",\"domain\":[0.0,0.44]},\"annotations\":[{\"font\":{\"size\":16},\"showarrow\":false,\"text\":\"Общая точность\",\"x\":0.225,\"xanchor\":\"center\",\"xref\":\"paper\",\"y\":1.0,\"yanchor\":\"bottom\",\"yref\":\"paper\"},{\"font\":{\"size\":16},\"showarrow\":false,\"text\":\"Метрики по классам\",\"x\":0.775,\"xanchor\":\"center\",\"xref\":\"paper\",\"y\":1.0,\"yanchor\":\"bottom\",\"yref\":\"paper\"},{\"font\":{\"size\":16},\"showarrow\":false,\"text\":\"Матрица ошибок\",\"x\":0.225,\"xanchor\":\"center\",\"xref\":\"paper\",\"y\":0.44,\"yanchor\":\"bottom\",\"yref\":\"paper\"},{\"font\":{\"size\":16},\"showarrow\":false,\"text\":\"Сводная таблица\",\"x\":0.775,\"xanchor\":\"center\",\"xref\":\"paper\",\"y\":0.44,\"yanchor\":\"bottom\",\"yref\":\"paper\"}],\"font\":{\"size\":11},\"height\":800,\"width\":1200,\"title\":{\"text\":\"Анализ производительности модели\"},\"showlegend\":false,\"barmode\":\"group\"},                        {\"responsive\": true}                    ).then(function(){\n",
              "                            \n",
              "var gd = document.getElementById('ecb40013-806a-425a-988d-8d85a9f7ec2b');\n",
              "var x = new MutationObserver(function (mutations, observer) {{\n",
              "        var display = window.getComputedStyle(gd).display;\n",
              "        if (!display || display === 'none') {{\n",
              "            console.log([gd, 'removed!']);\n",
              "            Plotly.purge(gd);\n",
              "            observer.disconnect();\n",
              "        }}\n",
              "}});\n",
              "\n",
              "// Listen for the removal of the full notebook cells\n",
              "var notebookContainer = gd.closest('#notebook-container');\n",
              "if (notebookContainer) {{\n",
              "    x.observe(notebookContainer, {childList: true});\n",
              "}}\n",
              "\n",
              "// Listen for the clearing of the current output cell\n",
              "var outputEl = gd.closest('.output');\n",
              "if (outputEl) {{\n",
              "    x.observe(outputEl, {childList: true});\n",
              "}}\n",
              "\n",
              "                        })                };                            </script>        </div>\n",
              "</body>\n",
              "</html>"
            ]
          },
          "metadata": {}
        }
      ]
    },
    {
      "cell_type": "code",
      "execution_count": null,
      "metadata": {
        "colab": {
          "base_uri": "https://localhost:8080/"
        },
        "id": "LqXHIhoEZjYo",
        "outputId": "f78f9d83-991c-4f00-912b-8e81a322efac",
        "scrolled": true
      },
      "outputs": [
        {
          "data": {
            "text/plain": [
              "['fake_news_detect_model.joblib']"
            ]
          },
          "execution_count": 148,
          "metadata": {},
          "output_type": "execute_result"
        }
      ],
      "source": [
        "joblib.dump(pipeline, 'fake_news_detect.joblib')"
      ]
    }
  ],
  "metadata": {
    "colab": {
      "collapsed_sections": [
        "UGxF1WbxrVf3",
        "6E878hqisauQ"
      ],
      "provenance": []
    },
    "kernelspec": {
      "display_name": "Python 3 (ipykernel)",
      "language": "python",
      "name": "python3"
    },
    "language_info": {
      "codemirror_mode": {
        "name": "ipython",
        "version": 3
      },
      "file_extension": ".py",
      "mimetype": "text/x-python",
      "name": "python",
      "nbconvert_exporter": "python",
      "pygments_lexer": "ipython3",
      "version": "3.12.5"
    }
  },
  "nbformat": 4,
  "nbformat_minor": 0
}